{
  "nbformat": 4,
  "nbformat_minor": 0,
  "metadata": {
    "colab": {
      "provenance": []
    },
    "kernelspec": {
      "name": "python3",
      "display_name": "Python 3"
    },
    "language_info": {
      "name": "python"
    }
  },
  "cells": [
    {
      "cell_type": "markdown",
      "source": [
        "# IMPORTS"
      ],
      "metadata": {
        "id": "ZK2VnnBo3-nz"
      }
    },
    {
      "cell_type": "code",
      "execution_count": 17,
      "metadata": {
        "id": "ch5IrOCREeUg"
      },
      "outputs": [],
      "source": [
        "import numpy as np\n",
        "import pandas as pd\n",
        "import math\n",
        "import sklearn\n",
        "import sklearn.preprocessing\n",
        "import datetime\n",
        "import os\n",
        "import matplotlib.pyplot as plt\n",
        "import tensorflow as tf\n",
        "from sklearn.model_selection import train_test_split\n",
        "from keras.models import Sequential\n",
        "from keras.layers import LSTM\n",
        "from keras.layers import Dense\n",
        "from keras.layers import Dropout"
      ]
    },
    {
      "cell_type": "markdown",
      "source": [
        "# METHOD DEFINITION"
      ],
      "metadata": {
        "id": "VbhLXU7E50SF"
      }
    },
    {
      "cell_type": "code",
      "source": [
        "size = 15\n",
        "\n",
        "def plot_simple(x, y):\n",
        "  global size\n",
        "  plt.xlabel(\"Date or sampling\")\n",
        "  plt.ylabel(\"Stock value\")\n",
        "  plt.title(\"Stock value history\")\n",
        "  plt.plot(x, y, markersize = size)\n",
        "  plt.show()\n",
        "\n",
        "def plot_double(x, y, y_2):\n",
        "  global size\n",
        "  plt.xlabel(\"Date or sampling\")\n",
        "  plt.ylabel(\"Stock value\")\n",
        "  plt.title(\"Stock value history\")\n",
        "  plt.plot(x, y, markersize = size)\n",
        "  plt.plot(x, y_2, markersize = size)\n",
        "  plt.show()\n",
        "\n",
        "def plot_data(df):\n",
        "  global size\n",
        "  plt.xlabel(\"Date or sampling\")\n",
        "  plt.ylabel(\"Stock value\")\n",
        "  plt.title(\"Stock OPEN value history\")\n",
        "  plt.plot(np.arange(0, len(df.Date)), df.Open, markersize = size)\n",
        "  plt.title(\"Stock HIGH value history\")\n",
        "  plt.plot(np.arange(0, len(df.Date)), df.High, markersize = size)\n",
        "  plt.title(\"Stock LOW value history\")\n",
        "  plt.plot(np.arange(0, len(df.Date)), df.Low, markersize = size)\n",
        "  plt.title(\"Stock CLOSE value history\")\n",
        "  plt.plot(np.arange(0, len(df.Date)), df.Close, markersize = size)\n",
        "  plt.show()\n",
        "\n",
        "def load_data(url):\n",
        "  df = pd.read_csv(url)"
      ],
      "metadata": {
        "id": "D01kIY6A5njU"
      },
      "execution_count": 18,
      "outputs": []
    },
    {
      "cell_type": "markdown",
      "source": [
        "# LOAD DATA"
      ],
      "metadata": {
        "id": "bUdquUYG4Be4"
      }
    },
    {
      "cell_type": "code",
      "source": [
        "#x_train, y_train, x_val, y_val, x_test, y_test = load_data(\"/content/AAPL.csv\")\n",
        "from sklearn.preprocessing import MinMaxScaler\n",
        "scaler = MinMaxScaler(feature_range=(0,1))\n",
        "#df = pd.read_csv(\"/content/AAPL.csv\")\n",
        "df = pd.read_csv(\"https://raw.githubusercontent.com/ferriitoo/CS584-Machine-Learning/main/project/data/AAPL.csv?token=GHSAT0AAAAAABZHHPWXNQCRWA6NBQ4PXDUSY3AKPMQ\")\n",
        "\n",
        "df = df.reindex(['Data', 'Volume', 'Open', 'High', 'Low', 'Close', 'Adj Close'], axis=1)\n",
        "df = df.values\n",
        "data = df[:, 1:6]\n",
        "data = scaler.fit_transform(data)\n",
        "labels = df[:, 6:]\n",
        "print(data.shape)\n",
        "print(labels.shape)\n",
        "x_train, x_test, y_train, y_test = train_test_split(data, labels, test_size = 0.2)\n",
        "x_train, x_val, y_train, y_val = train_test_split(x_train, y_train, test_size = 0.25)\n",
        "print(x_train.shape)\n",
        "print(y_train.shape)\n",
        "print(x_val.shape)\n",
        "print(y_val.shape)\n",
        "print(x_test.shape)\n",
        "print(y_test.shape)"
      ],
      "metadata": {
        "colab": {
          "base_uri": "https://localhost:8080/"
        },
        "id": "C1iEpdOb4FoE",
        "outputId": "d8f2fa6e-ee87-4da9-d8b5-bda546e9e0b9"
      },
      "execution_count": 19,
      "outputs": [
        {
          "output_type": "stream",
          "name": "stdout",
          "text": [
            "(10468, 5)\n",
            "(10468, 1)\n",
            "(6280, 5)\n",
            "(6280, 1)\n",
            "(2094, 5)\n",
            "(2094, 1)\n",
            "(2094, 5)\n",
            "(2094, 1)\n"
          ]
        }
      ]
    },
    {
      "cell_type": "markdown",
      "source": [
        "# MODEL"
      ],
      "metadata": {
        "id": "w4FwWVuEGkpM"
      }
    },
    {
      "cell_type": "markdown",
      "source": [
        "Train the ***Simple Moving Average*** model:"
      ],
      "metadata": {
        "id": "rvcsoAvySFaP"
      }
    },
    {
      "cell_type": "code",
      "source": [
        "#### Train-Test split for time-series ####\n",
        "test_ratio = 0.2\n",
        "training_ratio = 1 - test_ratio\n",
        "\n",
        "window_size_1 = 50\n",
        "window_size_2 = 300\n",
        "\n",
        "df = pd.read_csv(\"https://raw.githubusercontent.com/ferriitoo/CS584-Machine-Learning/main/project/data/AAPL.csv?token=GHSAT0AAAAAABZHHPWXNQCRWA6NBQ4PXDUSY3AKPMQ\")\n",
        "\n",
        "train_size = int(training_ratio * len(df))\n",
        "test_size = int(test_ratio * len(df))\n",
        "print(\"train_size: \" + str(train_size))\n",
        "print(\"test_size: \" + str(test_size))\n",
        "\n",
        "df['SMA_50'] = df['Close'].rolling(window_size_1).mean()\n",
        "df['SMA_300'] = df['Close'].rolling(window_size_2).mean()\n",
        "\n",
        "train = df[:train_size][['Date', 'Close', 'SMA_50', 'SMA_300']]\n",
        "test = df[train_size:][['Date', 'Close', 'SMA_50', 'SMA_300']]\n",
        "\n",
        "\n",
        "## Split the time-series data into training seq X and output value Y\n",
        "def extract_seqX_outcomeY(data, N, offset):\n",
        "    \"\"\"\n",
        "    Split time-series into training sequence X and outcome value Y\n",
        "    Args:\n",
        "        data - dataset \n",
        "        N - window size, e.g., 50 for 50 days of historical stock prices\n",
        "        offset - position to start the split\n",
        "    \"\"\"\n",
        "    X, y = [], []\n",
        "    \n",
        "    for i in range(offset, len(data)):\n",
        "        X.append(data[i-N:i])\n",
        "        y.append(data[i])\n",
        "    \n",
        "    return np.array(X), np.array(y)\n",
        "\n",
        "#### Calculate the metrics RMSE and MAPE ####\n",
        "def calculate_rmse(y_true, y_pred):\n",
        "    \"\"\"\n",
        "    Calculate the Root Mean Squared Error (RMSE)  \n",
        "    \"\"\"\n",
        "    rmse = np.sqrt(np.mean((y_true-y_pred)**2))                   \n",
        "    return rmse\n",
        "\n",
        "def calculate_mape(y_true, y_pred): \n",
        "    \"\"\"\n",
        "    Calculate the Mean Absolute Percentage Error (MAPE) %\n",
        "    \"\"\"\n",
        "    y_pred, y_true = np.array(y_pred), np.array(y_true)    \n",
        "    mape = np.mean(np.abs((y_true-y_pred) / y_true))*100    \n",
        "    return mape\n",
        "\n",
        "class mape():\n",
        "  pass\n",
        "\n",
        "class rmse():\n",
        "  pass\n"
      ],
      "metadata": {
        "colab": {
          "base_uri": "https://localhost:8080/"
        },
        "id": "d2K-VW1SP2qF",
        "outputId": "ac720281-485a-4c75-d936-b91c0bcc78da"
      },
      "execution_count": 20,
      "outputs": [
        {
          "output_type": "stream",
          "name": "stdout",
          "text": [
            "train_size: 8374\n",
            "test_size: 2093\n"
          ]
        }
      ]
    },
    {
      "cell_type": "markdown",
      "source": [
        "# PLOT DATA"
      ],
      "metadata": {
        "id": "vcjkUytC4HiV"
      }
    },
    {
      "cell_type": "code",
      "source": [
        "#calculating the mape and the rmse for the Moving Average model\n",
        "mape.SME_50 = round(calculate_mape(test.Close, test.SMA_50), 2)\n",
        "rmse.SME_50 = round(calculate_rmse(test.Close, test.SMA_50), 2)\n",
        "mape.SME_300 = round(calculate_mape(test.Close, test.SMA_300), 2)\n",
        "rmse.SME_300 = round(calculate_rmse(test.Close, test.SMA_300), 2)\n",
        "\n",
        "\n",
        "#writing down the errors of the different models\n",
        "print(\"THE MOVING AVERAGE MODEL with window size = 50\")\n",
        "print(\"MAPE: {}\". format(mape.SME_50))\n",
        "print(\"RMSE: {}\". format(rmse.SME_50))\n",
        "print(\"\\n\")\n",
        "\n",
        "print(\"THE MOVING AVERAGE MODEL with window size = 300\")\n",
        "print(\"MAPE: {}\". format(mape.SME_300))\n",
        "print(\"RMSE: {}\". format(rmse.SME_300))\n",
        "print(\"\\n\")\n",
        "\n",
        "plot_double(np.arange(0, len(test.Date)), test.Close, test.SMA_50)\n",
        "plot_double(np.arange(0, len(test.Date)), test.Close, test.SMA_300)\n",
        "\n",
        "\n",
        "\n"
      ],
      "metadata": {
        "id": "8ygTyfKbTuXv",
        "outputId": "56bd938a-122b-428c-b97d-a1a5b9e08c7f",
        "colab": {
          "base_uri": "https://localhost:8080/",
          "height": 747
        }
      },
      "execution_count": 21,
      "outputs": [
        {
          "output_type": "stream",
          "name": "stdout",
          "text": [
            "THE MOVING AVERAGE MODEL with window size = 50\n",
            "MAPE: 5.8\n",
            "RMSE: 5.82\n",
            "\n",
            "\n",
            "THE MOVING AVERAGE MODEL with window size = 300\n",
            "MAPE: 16.19\n",
            "RMSE: 15.94\n",
            "\n",
            "\n"
          ]
        },
        {
          "output_type": "display_data",
          "data": {
            "text/plain": [
              "<Figure size 432x288 with 1 Axes>"
            ],
            "image/png": "[encoded data removed]"
          },
          "metadata": {
            "needs_background": "light"
          }
        },
        {
          "output_type": "display_data",
          "data": {
            "text/plain": [
              "<Figure size 432x288 with 1 Axes>"
            ],
            "image/png": "[encoded data removed]"
          },
          "metadata": {
            "needs_background": "light"
          }
        }
      ]
    },
    {
      "cell_type": "code",
      "source": [],
      "metadata": {
        "id": "fVY4OYhXQFTT"
      },
      "execution_count": null,
      "outputs": []
    }
  ]
}