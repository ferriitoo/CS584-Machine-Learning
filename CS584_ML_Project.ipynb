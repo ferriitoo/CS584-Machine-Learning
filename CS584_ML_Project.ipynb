{
  "nbformat": 4,
  "nbformat_minor": 0,
  "metadata": {
    "colab": {
      "provenance": [],
      "collapsed_sections": [],
      "authorship_tag": "ABX9TyOFe7hOcuGmbXQcdzkDWxYQ",
      "include_colab_link": true
    },
    "kernelspec": {
      "name": "python3",
      "display_name": "Python 3"
    },
    "language_info": {
      "name": "python"
    }
  },
  "cells": [
    {
      "cell_type": "markdown",
      "metadata": {
        "id": "view-in-github",
        "colab_type": "text"
      },
      "source": [
        "<a href=\"https://colab.research.google.com/github/ferriitoo/CS584-Machine-Learning/blob/main/CS584_ML_Project.ipynb\" target=\"_parent\"><img src=\"https://colab.research.google.com/assets/colab-badge.svg\" alt=\"Open In Colab\"/></a>"
      ]
    },
    {
      "cell_type": "code",
      "execution_count": 67,
      "metadata": {
        "colab": {
          "base_uri": "https://localhost:8080/",
          "height": 501
        },
        "id": "ch5IrOCREeUg",
        "outputId": "eb82c7cd-2d90-487c-9d4e-54a4d7d2a137"
      },
      "outputs": [
        {
          "output_type": "stream",
          "name": "stdout",
          "text": [
            "The size of our sample is:  10468\n"
          ]
        },
        {
          "output_type": "execute_result",
          "data": {
            "text/plain": [
              "             Date        Open        High         Low       Close   Adj Close  \\\n",
              "10463  2022-06-13  132.869995  135.199997  131.440002  131.880005  131.880005   \n",
              "10464  2022-06-14  133.130005  133.889999  131.479996  132.759995  132.759995   \n",
              "10465  2022-06-15  134.289993  137.339996  132.160004  135.429993  135.429993   \n",
              "10466  2022-06-16  132.080002  132.389999  129.039993  130.059998  130.059998   \n",
              "10467  2022-06-17  130.070007  133.080002  129.809998  131.559998  131.559998   \n",
              "\n",
              "          Volume  \n",
              "10463  122207100  \n",
              "10464   84784300  \n",
              "10465   91533000  \n",
              "10466  108123900  \n",
              "10467  134118500  "
            ],
            "text/html": [
              "\n",
              "  <div id=\"df-597750ea-052d-4bfe-9b7a-fd215c5d0bae\">\n",
              "    <div class=\"colab-df-container\">\n",
              "      <div>\n",
              "<style scoped>\n",
              "    .dataframe tbody tr th:only-of-type {\n",
              "        vertical-align: middle;\n",
              "    }\n",
              "\n",
              "    .dataframe tbody tr th {\n",
              "        vertical-align: top;\n",
              "    }\n",
              "\n",
              "    .dataframe thead th {\n",
              "        text-align: right;\n",
              "    }\n",
              "</style>\n",
              "<table border=\"1\" class=\"dataframe\">\n",
              "  <thead>\n",
              "    <tr style=\"text-align: right;\">\n",
              "      <th></th>\n",
              "      <th>Date</th>\n",
              "      <th>Open</th>\n",
              "      <th>High</th>\n",
              "      <th>Low</th>\n",
              "      <th>Close</th>\n",
              "      <th>Adj Close</th>\n",
              "      <th>Volume</th>\n",
              "    </tr>\n",
              "  </thead>\n",
              "  <tbody>\n",
              "    <tr>\n",
              "      <th>10463</th>\n",
              "      <td>2022-06-13</td>\n",
              "      <td>132.869995</td>\n",
              "      <td>135.199997</td>\n",
              "      <td>131.440002</td>\n",
              "      <td>131.880005</td>\n",
              "      <td>131.880005</td>\n",
              "      <td>122207100</td>\n",
              "    </tr>\n",
              "    <tr>\n",
              "      <th>10464</th>\n",
              "      <td>2022-06-14</td>\n",
              "      <td>133.130005</td>\n",
              "      <td>133.889999</td>\n",
              "      <td>131.479996</td>\n",
              "      <td>132.759995</td>\n",
              "      <td>132.759995</td>\n",
              "      <td>84784300</td>\n",
              "    </tr>\n",
              "    <tr>\n",
              "      <th>10465</th>\n",
              "      <td>2022-06-15</td>\n",
              "      <td>134.289993</td>\n",
              "      <td>137.339996</td>\n",
              "      <td>132.160004</td>\n",
              "      <td>135.429993</td>\n",
              "      <td>135.429993</td>\n",
              "      <td>91533000</td>\n",
              "    </tr>\n",
              "    <tr>\n",
              "      <th>10466</th>\n",
              "      <td>2022-06-16</td>\n",
              "      <td>132.080002</td>\n",
              "      <td>132.389999</td>\n",
              "      <td>129.039993</td>\n",
              "      <td>130.059998</td>\n",
              "      <td>130.059998</td>\n",
              "      <td>108123900</td>\n",
              "    </tr>\n",
              "    <tr>\n",
              "      <th>10467</th>\n",
              "      <td>2022-06-17</td>\n",
              "      <td>130.070007</td>\n",
              "      <td>133.080002</td>\n",
              "      <td>129.809998</td>\n",
              "      <td>131.559998</td>\n",
              "      <td>131.559998</td>\n",
              "      <td>134118500</td>\n",
              "    </tr>\n",
              "  </tbody>\n",
              "</table>\n",
              "</div>\n",
              "      <button class=\"colab-df-convert\" onclick=\"convertToInteractive('df-597750ea-052d-4bfe-9b7a-fd215c5d0bae')\"\n",
              "              title=\"Convert this dataframe to an interactive table.\"\n",
              "              style=\"display:none;\">\n",
              "        \n",
              "  <svg xmlns=\"http://www.w3.org/2000/svg\" height=\"24px\"viewBox=\"0 0 24 24\"\n",
              "       width=\"24px\">\n",
              "    <path d=\"M0 0h24v24H0V0z\" fill=\"none\"/>\n",
              "    <path d=\"M18.56 5.44l.94 2.06.94-2.06 2.06-.94-2.06-.94-.94-2.06-.94 2.06-2.06.94zm-11 1L8.5 8.5l.94-2.06 2.06-.94-2.06-.94L8.5 2.5l-.94 2.06-2.06.94zm10 10l.94 2.06.94-2.06 2.06-.94-2.06-.94-.94-2.06-.94 2.06-2.06.94z\"/><path d=\"M17.41 7.96l-1.37-1.37c-.4-.4-.92-.59-1.43-.59-.52 0-1.04.2-1.43.59L10.3 9.45l-7.72 7.72c-.78.78-.78 2.05 0 2.83L4 21.41c.39.39.9.59 1.41.59.51 0 1.02-.2 1.41-.59l7.78-7.78 2.81-2.81c.8-.78.8-2.07 0-2.86zM5.41 20L4 18.59l7.72-7.72 1.47 1.35L5.41 20z\"/>\n",
              "  </svg>\n",
              "      </button>\n",
              "      \n",
              "  <style>\n",
              "    .colab-df-container {\n",
              "      display:flex;\n",
              "      flex-wrap:wrap;\n",
              "      gap: 12px;\n",
              "    }\n",
              "\n",
              "    .colab-df-convert {\n",
              "      background-color: #E8F0FE;\n",
              "      border: none;\n",
              "      border-radius: 50%;\n",
              "      cursor: pointer;\n",
              "      display: none;\n",
              "      fill: #1967D2;\n",
              "      height: 32px;\n",
              "      padding: 0 0 0 0;\n",
              "      width: 32px;\n",
              "    }\n",
              "\n",
              "    .colab-df-convert:hover {\n",
              "      background-color: #E2EBFA;\n",
              "      box-shadow: 0px 1px 2px rgba(60, 64, 67, 0.3), 0px 1px 3px 1px rgba(60, 64, 67, 0.15);\n",
              "      fill: #174EA6;\n",
              "    }\n",
              "\n",
              "    [theme=dark] .colab-df-convert {\n",
              "      background-color: #3B4455;\n",
              "      fill: #D2E3FC;\n",
              "    }\n",
              "\n",
              "    [theme=dark] .colab-df-convert:hover {\n",
              "      background-color: #434B5C;\n",
              "      box-shadow: 0px 1px 3px 1px rgba(0, 0, 0, 0.15);\n",
              "      filter: drop-shadow(0px 1px 2px rgba(0, 0, 0, 0.3));\n",
              "      fill: #FFFFFF;\n",
              "    }\n",
              "  </style>\n",
              "\n",
              "      <script>\n",
              "        const buttonEl =\n",
              "          document.querySelector('#df-597750ea-052d-4bfe-9b7a-fd215c5d0bae button.colab-df-convert');\n",
              "        buttonEl.style.display =\n",
              "          google.colab.kernel.accessAllowed ? 'block' : 'none';\n",
              "\n",
              "        async function convertToInteractive(key) {\n",
              "          const element = document.querySelector('#df-597750ea-052d-4bfe-9b7a-fd215c5d0bae');\n",
              "          const dataTable =\n",
              "            await google.colab.kernel.invokeFunction('convertToInteractive',\n",
              "                                                     [key], {});\n",
              "          if (!dataTable) return;\n",
              "\n",
              "          const docLinkHtml = 'Like what you see? Visit the ' +\n",
              "            '<a target=\"_blank\" href=https://colab.research.google.com/notebooks/data_table.ipynb>data table notebook</a>'\n",
              "            + ' to learn more about interactive tables.';\n",
              "          element.innerHTML = '';\n",
              "          dataTable['output_type'] = 'display_data';\n",
              "          await google.colab.output.renderOutput(dataTable, element);\n",
              "          const docLink = document.createElement('div');\n",
              "          docLink.innerHTML = docLinkHtml;\n",
              "          element.appendChild(docLink);\n",
              "        }\n",
              "      </script>\n",
              "    </div>\n",
              "  </div>\n",
              "  "
            ]
          },
          "metadata": {},
          "execution_count": 67
        },
        {
          "output_type": "display_data",
          "data": {
            "text/plain": [
              "<Figure size 432x288 with 1 Axes>"
            ],
            "image/png": "[encoded data removed]"
          },
          "metadata": {
            "needs_background": "light"
          }
        }
      ],
      "source": [
        "import numpy as np\n",
        "import pandas as pd\n",
        "import math\n",
        "import sklearn\n",
        "import sklearn.preprocessing\n",
        "import datetime\n",
        "import os\n",
        "import matplotlib.pyplot as plt\n",
        "import tensorflow as tf\n",
        "\n",
        "\n",
        "# import all stock prices \n",
        "url = 'https://raw.githubusercontent.com/ferriitoo/CS584-Machine-Learning/main/AAPL.csv'\n",
        "df = pd.read_csv(url)\n",
        "\n",
        "size = 20 #Adjust the size of the points of the graphs\n",
        "def plot_simple(x, y):\n",
        "  global size\n",
        "  plt.xlabel(\"Date or sampling\")\n",
        "  plt.ylabel(\"Stock value\")\n",
        "  plt.title(\"Stock value history\")\n",
        "  plt.plot(x, y, markersize = size)\n",
        "\n",
        "def plot_data(df):\n",
        "  global size\n",
        "  plt.xlabel(\"Date or sampling\")\n",
        "  plt.ylabel(\"Stock value\")\n",
        "  plt.title(\"Stock OPEN value history\")\n",
        "  plt.plot(np.arange(0, len(df.Date)), df.Open, markersize = size)\n",
        "  plt.title(\"Stock HIGH value history\")\n",
        "  plt.plot(np.arange(0, len(df.Date)), df.High, markersize = size)\n",
        "  plt.title(\"Stock LOW value history\")\n",
        "  plt.plot(np.arange(0, len(df.Date)), df.Low, markersize = size)\n",
        "  plt.title(\"Stock CLOSE value history\")\n",
        "  plt.plot(np.arange(0, len(df.Date)), df.Close, markersize = size)\n",
        "\n",
        "n_samples = len(df.Date)\n",
        "print(\"The size of our sample is: \", n_samples)\n",
        "#df.info()\n",
        "df.describe()\n",
        "df.head()\n",
        "\n",
        "plot_data(df)\n",
        "#plot(df.Date, df.Open)\n",
        "df.tail()"
      ]
    },
    {
      "cell_type": "code",
      "source": [
        "plot(np.arange(0, len(df.Open[:500])), df.Open[:500])"
      ],
      "metadata": {
        "colab": {
          "base_uri": "https://localhost:8080/",
          "height": 295
        },
        "id": "WXccZeAkSzlL",
        "outputId": "0f64b97d-97dc-4331-9991-4b8f08d18e16"
      },
      "execution_count": 66,
      "outputs": [
        {
          "output_type": "display_data",
          "data": {
            "text/plain": [
              "<Figure size 432x288 with 1 Axes>"
            ],
            "image/png": "[encoded data removed]"
          },
          "metadata": {
            "needs_background": "light"
          }
        }
      ]
    },
    {
      "cell_type": "code",
      "source": [],
      "metadata": {
        "id": "GDF8sebIMt6g"
      },
      "execution_count": null,
      "outputs": []
    }
  ]
}