{
  "nbformat": 4,
  "nbformat_minor": 0,
  "metadata": {
    "colab": {
      "provenance": [],
      "collapsed_sections": []
    },
    "kernelspec": {
      "name": "python3",
      "language": "python",
      "display_name": "Python 3"
    },
    "pycharm": {
      "stem_cell": {
        "cell_type": "raw",
        "source": [],
        "metadata": {
          "collapsed": false
        }
      }
    }
  },
  "cells": [
    {
      "cell_type": "markdown",
      "metadata": {
        "id": "Z7_hx8SJJR4-"
      },
      "source": [
        "# Assignment 2 - Logistic Regression & Naive Bayes\n",
        "\n",
        "Due by 11:59pm, Oct 16, 2022"
      ]
    },
    {
      "cell_type": "markdown",
      "metadata": {
        "id": "pyGrk2X_J_1h"
      },
      "source": [
        "## Theory Questions (Full points: 40, each question 5 points)"
      ]
    },
    {
      "cell_type": "markdown",
      "metadata": {
        "id": "b8OnMEI0JXxA"
      },
      "source": [
        "1. Explain the importance of setting up learning rate in the gradient descent based methods. "
      ]
    },
    {
      "cell_type": "markdown",
      "metadata": {
        "id": "uv3iz5dBJX7Z"
      },
      "source": [
        "**Answer:**\n",
        "First of all, the ***learning rate*** is a parameter with positive value between ***0.0 and 1.0*** that can be modified in order to establish the speed at which the model adapts to the problem. That is to say, it works as a multiplyer of the gradient result in order to move from one coordinate to another during the gradient descent. The larger is its value, the faster the coordinates move in order to find the global minimum of the cost function, so the faster the wiegths are changed. In case of using large learning rates, less epochs are required. \n",
        "\n",
        "Therefore, adjusting the learning rate of the model is a vital point when designing the model due to the fact that a large one could end up in a convergence to a non optimal point; whereas a small one could wind up in getting the model stuck. That is why the learning rate is the most important hyperparameter and should be tuned in the first place ahead of other ones that have less importance even though they might also be taken into account.\n",
        "\n",
        "\n"
      ]
    },
    {
      "cell_type": "markdown",
      "metadata": {
        "id": "wO8kErgCJX-P"
      },
      "source": [
        "2. What is the stochastic gradient descent? Why do we need stochastic gradient descent?"
      ]
    },
    {
      "cell_type": "markdown",
      "metadata": {
        "id": "nEviYAL2JeWs"
      },
      "source": [
        "**Answer:**\n",
        "The Stochastic Gradient Descent (SGD) is a improved method for dradient descent when the order of the data is to large. In order to avoid our algorithm to perform too many calculations per iterations, the SDG holds really good advantages in regards of computational costs.\n",
        "\n",
        "The SDG technique is based on the fact of only choosing one random data point in order to perform the gradient calculations instead of taking the whole dataset while calculating the gradient descent (GD) as it is done in the normal gradient descent technique. In order to take advantage of both, the accuracy of the GD and the speed of the SDG, it can also be used the mini-batch technique that stands for the idea of using a sample of random data points instead of one or the whole dataset. This way, the benefits of both methods are combined. "
      ]
    },
    {
      "cell_type": "markdown",
      "metadata": {
        "id": "9vQD3sgwJYBS"
      },
      "source": [
        "3. Explain the reasons to perform feature scaling."
      ]
    },
    {
      "cell_type": "markdown",
      "metadata": {
        "id": "t-e37RdDJfmd"
      },
      "source": [
        "**Answer:**\n",
        "The feature scaling usually appears in the data pre-processing and it deals with the fact of trying to establish some standard rules in the independent features of the data set. \n",
        "\n",
        "For instance, in a classification model trained with a dataset, we want to predict based on two atributtes, wheter if teh result will be YES or NO, a binary result. Therefore, we must plot a two dimensional scatter graph with the data set and draw the points with the known results as YES or NO. We will see that probably the YES data points will be backed up in a certan space of the graph, and the NO data points will be focused on another part. Therefore we can predict that every new point close to each ceratin space will be predicted as YES or NO, but what about the data points that are between the two certain zones? \n",
        "\n",
        "In order to predict then, we should calculate the distance from data point to the centroids of the YES and NO sample points, and predict that data point as YES or NO depending on which centroid is closer. But that distance can be calculated using several methods such as the ***Euclidean*** distance, ***Manhattan*** distance and ***Minkowski*** distance.\n",
        "\n",
        "In case of the Manhattan distance, each coordinate or attribute of the centroid is substracted by the one of the data point and that absolute positive results will be added all over the coordinates. As it is the sum of differences, if the order of one of the attributes is higher than the others, for example, salaries (100k) vs the number of houses owned (2), the salaries will always be dominant because a difference of 1k in salaries will mean a 1k difference of owned houses, which will be almost impossible. Therefore, in order to avoid this kind of error that lead to dominant feature and wrong predictions, the features must be scaled relatively in a fixed range as (-1,1) or (0,1) in order to standarize the data and make sense to the sum oof the differences. This way, the added items will be of the same order of magnitude.    "
      ]
    },
    {
      "cell_type": "markdown",
      "metadata": {
        "id": "dOqhvEpuJYEX"
      },
      "source": [
        "4. What is the probabilistic generative model?"
      ]
    },
    {
      "cell_type": "markdown",
      "metadata": {
        "id": "rf5JjDFDJe6G"
      },
      "source": [
        "**Answer:**\n",
        "The probabilistic generative model is often used in order to create new datasets of a given dataset. That is to say, the generative model will use a training dataset in order to recognize the pattern of the type of dataset, and then, it will be able to create new datasets of the same kind of data than the one it has learned from. \n",
        "\n",
        "Therefore, if we give to our generative model a dataset in form of car images and it use them in order to train itself. After having finished the training, it will be able to create new images of cars as it has learned which are the rules that governs the creation of car images and which features chacarterize better to a car. \n",
        "\n",
        "In addition, a generative model must be probabilistic rather than deterministic. That is to say, for same inputs, the model should give different outputs because it must be based on same randomness or stochastic distribution that influences the results of the dataset. For example, a generative model that merely calculates an average may not be generative, because for the same input numbers, it will always obtain the same output average.\n",
        "\n"
      ]
    },
    {
      "cell_type": "markdown",
      "metadata": {
        "id": "W8V802XDJjxe"
      },
      "source": [
        "5. Explain how we perform maximum likelihood."
      ]
    },
    {
      "cell_type": "markdown",
      "metadata": {
        "id": "S3PrgB7kJl99"
      },
      "source": [
        "**Answer:**\n",
        "\n",
        "***Maximum Likelihood Estimation (MLE)*** has a lot to do with the fact of trying to fit a distribution to the data set that we have. This is useful for making easier the data treatment by replacing the points cloud by a statistical distribution. \n",
        "\n",
        "One of the most used distributions is the normal one, where most of the measurements are close to the mean, and low and behold, the measurements are simetrical (not perfectly, but at least there are not skewed to one side). \n",
        "\n",
        "So, in order to replace the data by a normal distribution, we have to plot the likelihood of a normal distribution centered in one point of the dataset, to accurately represent our data set. This centered normal distribution will be swifted forward in order to get the spectrum of likelihood of being correctly centered. Once finished, our model should look for the normal distribution which is centered in a point that gives the Maximum Likelihood, and will choose that normal distribution because it defines the best way our cloud of data points. The MLE will be done for both, the mean and the standard deviation. \n",
        "\n",
        "In summary, the MLE deals with the process of getting the spectrum of the likelihood of properly replacing the cloud of data points by a normal distribution, and then taking the maximum likelihood point. "
      ]
    },
    {
      "cell_type": "markdown",
      "metadata": {
        "id": "3kUcM98LJj9N"
      },
      "source": [
        "6. Explain the reasons about using cross entropy loss in logistic regression."
      ]
    },
    {
      "cell_type": "markdown",
      "source": [],
      "metadata": {
        "id": "swtMMLse9Mlc"
      }
    },
    {
      "cell_type": "markdown",
      "metadata": {
        "id": "xuECRF2PJk81"
      },
      "source": [
        "**Answer:**\n",
        "\n",
        "The cross entropy loss function is one of the loss functions that can be used in ***Machine Learning *** and *** Optimization ***problems.\n",
        "\n",
        "In fact, the cross entropy function is usually used in logistic regressions in order to take advantage of the following scenarios.\n",
        "\n",
        "The maximun of the log-likelihood function will be the same as the regular likelihood function. The benefit o using the log-likelihood is that it can avoid the numerical underflow when the probabilities are too low. Therefore, we will proceed to minimize the negative of the log-likelihood function (cross-entropy error function), which is the same as maximizing the log-likelihood function. \n",
        "\n",
        "Another reason for choosing the cross-entropy function is the fact that in simple regression the output result in a convex loss function, in which the global minimum will be easy to find.  "
      ]
    },
    {
      "cell_type": "markdown",
      "metadata": {
        "id": "q8bCRVRaJkBP"
      },
      "source": [
        "7. Explain the differences between discriminative and generative model.\n"
      ]
    },
    {
      "cell_type": "markdown",
      "metadata": {
        "id": "R2KIVplzJlYt"
      },
      "source": [
        "**Answer:**\n",
        "\n",
        "The probabilistic generative model is a kind of model that contrasts with the discriminative models. While the generative models can generate new data instances, for instance, can generate new photos of a cat starting from some cat photos; the discriminative one can discriminate between different kinds of data instances, for instance, it can make a distinction between cat and dog photos. \n",
        "\n",
        "Therefore, the generative model gets the joint likelihood of p(x, y), being X a set of data instances and Y a set of labels. So, it can perform predictive actions such as which word fits better in the final part of the sentence. \n",
        "\n",
        "The discriminative model works with the distribution p(y|x), which is the natural distribution for classifying a given example x into a class y. \n",
        "Unlike the generative model, the discriminative one gives the probability of a word to pertain to a sentence, it does not make up the potentially most likely word at the last part of the sentence. \n",
        "\n",
        "Examples of Generative Classifiers:\n",
        "‌Naïve Bayes, Bayesian networks, Markov random fields‌ ‌a‌n‌d‌ ‌Hidden Markov Models (HMM).\n",
        "\n",
        "Examples of Discriminative Classifiers:‌ ‌Logistic regression, Scalar Vector Machine, Traditional neural networks, Nearest neighbour and Conditional Random Fields (CRF)s"
      ]
    },
    {
      "cell_type": "markdown",
      "metadata": {
        "id": "RCL0MZN6JkET"
      },
      "source": [
        "8. Bishop's Book \"Pattern Recognition and Machine learning\" - Exercise 4.9\n",
        "\n",
        "Consider a generative classification model for K classes defined by\n",
        "prior class probabilities p(Ck) = πk and general class-conditional densities p(φ|Ck)\n",
        "where φ is the input feature vector. Suppose we are given a training data set {φn, tn}\n",
        "where n = 1,...,N, and tn is a binary target vector of length K that uses the 1-of\u0002K coding scheme, so that it has components tnj = Ijk if pattern n is from class Ck.\n",
        "Assuming that the data points are drawn independently from this model, show that\n",
        "the maximum-likelihood solution for the prior probabilities is given by\n",
        "πk = Nk\n",
        "N "
      ]
    },
    {
      "cell_type": "markdown",
      "metadata": {
        "id": "M-h519EbJmbz"
      },
      "source": [
        "**Answer:**\n",
        "\n",
        "\n",
        "The theoretical demonstration will start by using the likelihood function as the one as follows:\n",
        "\n",
        "$\\prod\\limits_{n=1}^{N}\\prod\\limits_{k=1}^{K}(p(\\phi_n|C_k)\\pi_k)^{t_{nk}}$\n",
        "\n",
        "If the events are independent and identically distributed, the log-likelihood function will be as follows:\n",
        "$\\sum\\limits_{n=1}^N\\sum\\limits_{k=1}^Kt_{nk}·(\\ln p(\\phi_n|C_k)+\\ln \\pi_k)$\n",
        "\n",
        "The probability of $C_k$ is $p(C_k)=\\pi_k$, and by adding all the $p(C_k)$ of the different classes, we get $\\pi_k$ is $\\sum\\limits_{k=1}^K\\pi_k=1$\n",
        "\n",
        "The Lagrange equation is ${{\\mathcal {L}}(x,\\lambda )=f(x)-\\lambda \\sum\\limits_{k=1}^K\\pi_k-1}$\n",
        "\n",
        "The lilekyhood is:\n",
        "$\\sum\\limits_{n=1}^N\\sum\\limits_{k=1}^Kt_{nk}·(\\ln p(\\phi_n|C_k)+\\ln \\pi_k)-\\lambda\\big(\\sum\\limits_{k=1}^K\\pi_k-1\\big)$\n",
        "\n",
        "\n",
        "We want to maximize the log-likelihood with respect to the vector π, given the condition that the class probabilities added up together give one. \n",
        "\n",
        "$\\sum\\limits_{k=1}^K\\pi_k=1$\n",
        "\n",
        "\n",
        "If we take the differentials $\\frac{\\partial L}{\\partial \\pi_{k}}$ we have:\n",
        "$\\frac{\\partial L}{\\partial \\pi_{k}}=\\sum\\limits_{n=1}^{N} \\frac{t_{n k}}{\\pi_{k}}-\\lambda$\n",
        "$\\pi_k = \\frac{N_k}{\\lambda}$\n",
        "\n",
        "\n",
        "Taking the Lagrange function and  derivating with respect $\\lambda$ is \n",
        "\n",
        "Finally: $\\lambda$ being a Lagrange multiplier\n",
        "\n",
        "- $\\sum\\limits_{k=1}^K\\pi_k=\\sum\\limits_{k=1}^K\\frac{N_k}{\\lambda}=\\frac{N}{\\lambda}=1$\n",
        "- $\\lambda=N$\n",
        "- $\\pi_k=\\frac{N_k}{\\lambda}=\\frac{N_K}{N}$\n"
      ]
    },
    {
      "cell_type": "markdown",
      "metadata": {
        "id": "8AiWTVDf7cZ2"
      },
      "source": [
        "## Programming Questions (Full points: 60, each question 30 points)"
      ]
    },
    {
      "cell_type": "code",
      "metadata": {
        "id": "hUXdV3L376cA"
      },
      "source": [
        "# Do not edit the codes in this cell\n",
        "# load required library\n",
        "import matplotlib.pyplot as plt\n",
        "import numpy as np\n",
        "from sklearn.datasets import load_iris\n",
        "from sklearn.model_selection import train_test_split\n",
        "import pandas as pd\n",
        "import random \n",
        "import math\n",
        "\n",
        "\n",
        "# load dataset\n",
        "x, y = load_iris(return_X_y=True)"
      ],
      "execution_count": null,
      "outputs": []
    },
    {
      "cell_type": "markdown",
      "metadata": {
        "id": "8iwaee_T-Urj"
      },
      "source": [
        "### - Logistic Regression"
      ]
    },
    {
      "cell_type": "code",
      "metadata": {
        "id": "9M1DAu9XPY8E",
        "colab": {
          "base_uri": "https://localhost:8080/"
        },
        "outputId": "ca9e591d-ff4f-4876-fb11-62bcf213fc00"
      },
      "source": [
        "# Do not edit the codes in this cell\n",
        "# We use 100 samples and 2 features for logistic regression function\n",
        "#X = X[:-100]\n",
        "#y = y[:-100]\n",
        "\n",
        "x_lr = x[:100, :2] # class 0 and 1 balanced\n",
        "y_lr = y[:100]\n",
        "\n",
        "#Visualizing the data set\n",
        "\n",
        "print(x_lr[:5])\n",
        "print(y_lr)\n",
        "\n",
        "#Printing some samples in order to see the shape of the data"
      ],
      "execution_count": null,
      "outputs": [
        {
          "output_type": "stream",
          "name": "stdout",
          "text": [
            "[[5.1 3.5]\n",
            " [4.9 3. ]\n",
            " [4.7 3.2]\n",
            " [4.6 3.1]\n",
            " [5.  3.6]]\n",
            "[0 0 0 0 0 0 0 0 0 0 0 0 0 0 0 0 0 0 0 0 0 0 0 0 0 0 0 0 0 0 0 0 0 0 0 0 0\n",
            " 0 0 0 0 0 0 0 0 0 0 0 0 0 1 1 1 1 1 1 1 1 1 1 1 1 1 1 1 1 1 1 1 1 1 1 1 1\n",
            " 1 1 1 1 1 1 1 1 1 1 1 1 1 1 1 1 1 1 1 1 1 1 1 1 1 1]\n"
          ]
        }
      ]
    },
    {
      "cell_type": "markdown",
      "metadata": {
        "id": "4LdQ5yubLJld"
      },
      "source": [
        "In the assignment 2, you have more freedom on your programming design. In this part, you are going to implement your own Logistic Regression function. You need to implement logistic regression with stochastic gradient descent from scratch. The required functions are listed below. You can add more functions as you need. **No library versions of logistic regression are allowed**. \n",
        "_________\n",
        "\n",
        "1. train_test_split\n",
        "\n",
        "**Randomly** split data into train and test set. 80% of the raw data will be the train set and 20% of the raw data will be the test set.\n",
        "\n",
        "2. sigmoid\n",
        "\n",
        "The core of logistic regression\n",
        "\n",
        "3. predict\n",
        "\n",
        "Predict an output value for a given x with a set of coefficients. \n",
        "\n",
        "4. accurate\n",
        "\n",
        "Calculate accuracy percentage of the predictions.\n",
        "\n",
        "5. coef_sgd\n",
        "\n",
        "Estimate logistic regression coefficients using **stochastic gradient descent**. Using **the cross entropy loss**. Carefully choose learning rate and epochs values.\n",
        "\n",
        "6. draw_model\n",
        "\n",
        "Plot the final logistic regression model using the final coefficients and raw datasets. Plot title and xlabel, ylabel are required. Show the plot in the Output.\n",
        "\n",
        "Print out your **testing accurate**. Is it good? If not, analyze the reason in short. \n"
      ]
    },
    {
      "cell_type": "code",
      "metadata": {
        "id": "FeMvHu1L9Vmx",
        "colab": {
          "base_uri": "https://localhost:8080/",
          "height": 1000
        },
        "outputId": "a2f68303-7944-4dd2-b073-281473dc0210"
      },
      "source": [
        "\n",
        "#1- Randomly split data into train and test set. 80% of the raw data will be the train set and 20% of the raw data will be the test set.\n",
        "x_train, x_test, y_train, y_test  =  train_test_split(x_lr, y_lr, test_size = 0.2, random_state = 0)\n",
        "\n",
        "x_train = np.c_[np.ones((len(x_train),1)),x_train]\n",
        "x_test = np.c_[np.ones((len(x_test),1)),x_test]\n",
        "\n",
        "predictions = []\n",
        "error_train = []\n",
        "error_test = []\n",
        "y_pred_train = []\n",
        "y_pred_test = []\n",
        "y_train_results = []\n",
        "\n",
        "theta = np.random.randn(3,1)\n",
        "\n",
        "\n",
        "# LAS FUNCIONES YA ESTAN DEFINIDAS EN LAS LIBRERIAS QUE IMPORTAMOS, NO HACERLAS\n",
        "#2- The core of logistic regression\n",
        "\n",
        "def sigmoid(h):\n",
        "    sig = 1 / (1 +  math.exp(-h))\n",
        "    return sig\n",
        "\n",
        "\n",
        "\n",
        "#4- Calculate accuracy percentage of the predictions.\n",
        "def accurate(y_pred, y):\n",
        "    acc = 0\n",
        "    n_sample = len(y)\n",
        "    threshold = 0.1\n",
        "    for i in range (n_sample):\n",
        "      if ((y_pred[i] - y[i]) < threshold):\n",
        "        acc += 1\n",
        "    perc = acc / n_sample * 100  \n",
        "    return round(perc, 2)      \n",
        "\n",
        "#Needed auxiliar functions\n",
        "\n",
        "def rounding(x):\n",
        "  if (x >= 1):\n",
        "    x = 1.0\n",
        "  elif (x <= 0):\n",
        "    x = 0.0\n",
        "  else:\n",
        "    x = round(x)\n",
        "  return x    \n",
        "\n",
        "#Plot the final logistic regression model using the final coefficients and raw datasets. Plot title and xlabel, ylabel are required. Show the plot in the Output\n",
        "def draw_model(y):\n",
        "  plt.xlabel(\"Iteration number\")\n",
        "  plt.ylabel(\"Error\")\n",
        "  plt.title(\"Sampling experiment\")\n",
        "  x = np.arange(0, len(y))\n",
        "  plt.scatter(x, y, color = 'red')\n",
        "  plt.show()\n",
        "\n",
        "def plotting(y, y_pred):\n",
        "  if (len(y) == len(y_pred)):\n",
        "    x = np.arange(len(y))\n",
        "    plt.xlabel(\"Samples\")\n",
        "    plt.ylabel(\"Class predictions\")\n",
        "    plt.title(\"Sampling experiment\")\n",
        "    plt.scatter(x, y, color = 'red')\n",
        "    plt.scatter(x, y_pred, color = 'blue')\n",
        "    plt.show()\n",
        "  else:\n",
        "    print(\"The graph cannot be plotted due to dimensionality problems\")\n",
        "\n",
        "#3- Predict an output value for a given x with a set of coefficients.\n",
        "#5- Estimate logistic regression coefficients using stochastic gradient descent.\n",
        "\n",
        "def sdg(x,y,learning_rate,epochs):\n",
        "    global theta\n",
        "    global error_train\n",
        "    global y_pred_train\n",
        "    iter = len(x_train)\n",
        "    \n",
        "    for i in range(epochs):\n",
        "      j = np.random.randint(0, iter-1)\n",
        "      prediction = rounding(sigmoid(x[j].dot(theta)))\n",
        "      y_pred_train.append(prediction)\n",
        "      predict = x_train[j].dot(theta)\n",
        "      prediction = rounding(sigmoid(predict))\n",
        "      #error = loss(y[j], predict)\n",
        "      error = prediction - y[j] \n",
        "      error_train.append(error)\n",
        "      y_train_results.append(y[j])\n",
        "      theta[0] = theta[0] - learning_rate*(x[j][0]* error)\n",
        "      theta[1] = theta[1] - learning_rate*(x[j][1]* error)\n",
        "      theta[2] = theta[2] - learning_rate*(x[j][2]* error)\n",
        "    draw_model(error_train)\n",
        "    plotting(y_train_results, y_pred_train)\n",
        "\n",
        "def test(x_test, y_test, theta): \n",
        "  global y_pred_test\n",
        "  global error_test \n",
        "  for j in range(len(y_test)):\n",
        "    predict = x_test[j].dot(theta)\n",
        "    prediction = rounding(sigmoid(predict))\n",
        "    y_pred_test.append(prediction)\n",
        "    error = prediction - y_test[j]\n",
        "    #error = loss(y_test[j], predict)\n",
        "    error_test.append(error)\n",
        "    \"\"\"print(\"Iteration number: \", j)\n",
        "    print(\"\\n\")\n",
        "    print(\"Error: \", error)\n",
        "    print(\"Prediction: \", prediction)\n",
        "    print(\"\\n\")\"\"\"\n",
        "  draw_model(error_test)\n",
        "  plotting(y_test, y_pred_test)\n",
        "  \n",
        "            \n",
        "#5- Estimate logistic regression coefficients using stochastic gradient descent. Using the cross entropy loss. Carefully choose learning rate and epochs values.\n",
        "def loss(target, pred):\n",
        "  print(target)\n",
        "  print(pred)\n",
        "  if (pred < 0):\n",
        "    pred = 0.001\n",
        "  elif (pred > 1):\n",
        "    pred = 0.98  \n",
        "  value = -(target * math.log(pred, 2) + (1-target) * math.log((1-pred),2)) \n",
        "  return round(value,2)\n",
        "\n",
        "learning_rate = 0.8\n",
        "epochs = 60000\n",
        "# learning rate = 0.8 because it makes the needed epochs in order to stop having errors the minimum, 37.000 epochs more or less.\n",
        "# epochs = 60K becuase it is slightly higher than the epoch oberserved in order to stop having errors. \n",
        "# I have seen that the greater learning rate, the gradient evolves faster and the needed epochs usually is lower. \n",
        "# BE CAREFUL!!! Large number of learning rates may foster instabilities and divergent effects  \n",
        "\n",
        "print(\"TRAINING GRAPHS\")\n",
        "print(\"\\n\")\n",
        "\n",
        "sdg(x_train, y_train, learning_rate, epochs)\n",
        "\n",
        "print(\"TESTING GRAPHS\")\n",
        "print(\"\\n\")\n",
        "\n",
        "test(x_test, y_test, theta)\n",
        "\n",
        "\n",
        "print(\"The accuracy in the training has been: \", accurate(y_pred_train, y_train_results))\n",
        "print(\"The accuracy in the testing has been: \", accurate(y_pred_test, y_test))\n",
        "\n",
        "#creo que no funciona porque la loss function que uso yo aqui es la del blog, que se supone que es de logistic pero es igual que la de gradiente normal\n",
        "\n",
        "#predict(x_test[0], 1)  #returns a value between 0 and 1 because is a logistic regression\n",
        "#the loss function is also different\n",
        "\n",
        "\n"
      ],
      "execution_count": null,
      "outputs": [
        {
          "output_type": "stream",
          "name": "stdout",
          "text": [
            "TRAINING GRAPHS\n",
            "\n",
            "\n"
          ]
        },
        {
          "output_type": "display_data",
          "data": {
            "text/plain": [
              "<Figure size 432x288 with 1 Axes>"
            ],
            "image/png": "[encoded data removed]"
          },
          "metadata": {
            "needs_background": "light"
          }
        },
        {
          "output_type": "display_data",
          "data": {
            "text/plain": [
              "<Figure size 432x288 with 1 Axes>"
            ],
            "image/png": "[encoded data removed]"
          },
          "metadata": {
            "needs_background": "light"
          }
        },
        {
          "output_type": "stream",
          "name": "stdout",
          "text": [
            "TESTING GRAPHS\n",
            "\n",
            "\n"
          ]
        },
        {
          "output_type": "display_data",
          "data": {
            "text/plain": [
              "<Figure size 432x288 with 1 Axes>"
            ],
            "image/png": "[encoded data removed]"
          },
          "metadata": {
            "needs_background": "light"
          }
        },
        {
          "output_type": "display_data",
          "data": {
            "text/plain": [
              "<Figure size 432x288 with 1 Axes>"
            ],
            "image/png": "[encoded data removed]"
          },
          "metadata": {
            "needs_background": "light"
          }
        },
        {
          "output_type": "stream",
          "name": "stdout",
          "text": [
            "The accuracy in the training has been:  98.88\n",
            "The accuracy in the testing has been:  100.0\n"
          ]
        }
      ]
    },
    {
      "cell_type": "markdown",
      "metadata": {
        "id": "7eNsYoFL7pOG"
      },
      "source": [
        "### - Naive Bayes Classifier"
      ]
    },
    {
      "cell_type": "markdown",
      "metadata": {
        "id": "HTuXPz9V8jIA"
      },
      "source": [
        "In this part, you are going to implement your own naive bayes classifier. \n",
        "You need to implement naive bayes classifier from scratch **using the whole imported iris datasets x and y**. The required functions are listed below. You can add more functions as you need. **No library versions of naive bayes classifier are allowed**. \n",
        "_________\n",
        "\n",
        "1. cross_validation_split\n",
        "\n",
        "**Randomly** split data into 5 folds. That means 30 records will be in each fold.\n",
        "\n",
        "2. predict\n",
        "\n",
        "Predict the class label for a given x. \n",
        "\n",
        "3. accurate\n",
        "\n",
        "Calculate accuracy percentage of the predictions. Remember to average the results of k folds\n",
        "\n",
        "4. gaussian_probability\n",
        "\n",
        "Calculate the Gaussian probability distribution function for the given x. \n",
        "\n",
        "![Image_20210920015911.png](data:image/png;base64,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)\n",
        "\n",
        "\n",
        "5. class_probability\n",
        "\n",
        "Calculate the probabilities of predicting each class for a given x using naive bayes algorithm. Be aware that we have multiple input variables. And you may want to use gaussian_probability function here.\n",
        "\n",
        "*Print out your accuracy result. Is it good? If not, analyze the reason in short. *\n"
      ]
    },
    {
      "cell_type": "code",
      "metadata": {
        "id": "f-jO9XrADS92",
        "colab": {
          "base_uri": "https://localhost:8080/"
        },
        "outputId": "5230b9f7-7d9e-4629-e56d-b5fd18009025"
      },
      "source": [
        "x = []\n",
        "for i in range(len(x_lr)):\n",
        "  array = x_lr[i] \n",
        "  x.append([array[0], array[1], y_lr[i]])\n",
        "\n",
        "\n",
        "class data():\n",
        "  pass\n",
        "\n",
        "\n",
        "def stats(x, index):  \n",
        "  length = len(x)\n",
        "  sum_avg = 0\n",
        "  std = 0\n",
        "  for i in range(length):\n",
        "    sum_avg += x[i][index]\n",
        "  avg = round(sum_avg/length, 2)\n",
        "  for i in range(length):\n",
        "    std += math.pow(x[i][index] - avg, 2) \n",
        "  std = math.sqrt(std / length)\n",
        "  \"\"\"\n",
        "  print(\"Average: \", avg)\n",
        "  print(\"Standard deviation: \", std)\n",
        "  print(\"\\n\")\n",
        "  \"\"\"\n",
        "  return avg, std\n",
        "  \n",
        "\n",
        "#1- Randomly split data into 5 folds. That means 30 records will be in each fold.\n",
        "\n",
        "\n",
        "def cross_validation_split(x, k_folds):\n",
        "  #This function splits a dataset into k folds\n",
        "  k_folds = int(k_folds)\n",
        "  length = int(len(x)/k_folds)\n",
        "  x = random.choices(x, k=length)\n",
        "  return x\n",
        "\n",
        "\n",
        "#3- Calculate accuracy percentage of the predictions. Remember to average the results of k folds\n",
        "\n",
        "def accurate(y_pred, y):\n",
        "    acc = 0\n",
        "    differences = []\n",
        "    n_sample = len(y)\n",
        "    threshold = 0.2\n",
        "    for i in range (n_sample):\n",
        "      diff = y_pred[i] - y[i]\n",
        "      if (diff < threshold):\n",
        "        acc += 1\n",
        "        #print(\"acc is: \", acc)\n",
        "      differences.append(diff)  \n",
        "    perc = round(acc / n_sample * 100, 2)\n",
        "    print(\"The accuracy is: \", perc)\n",
        "    #print(differences)\n",
        "    return perc\n",
        "\n",
        "#4- Calculate the Gaussian probability distribution function for the given x.\n",
        "\n",
        "def gaussian_probability(x , mean , sd):\n",
        "    prob_density = (np.pi*sd) * np.exp(-0.5*((x-mean)/sd)**2)\n",
        "    return prob_density\n",
        "\n",
        "#2- Predict the class label for a given x.\n",
        "#5- Calculate the probabilities of predicting each class for a given x using naive bayes algorithm. Be aware that we have multiple input variables. \n",
        "#And you may want to use gaussian_probability function here.\n",
        "\n",
        "def predict(x_5, input):\n",
        "  global data\n",
        "  pr_0 = []\n",
        "  pr_1 = [] \n",
        "  x_0 = []\n",
        "  x_1 = []\n",
        "  for i in range(len(x_5)):\n",
        "    if (x_5[i][2] == 0):\n",
        "      x_0.append(x_5[i])\n",
        "    elif (x_5[i][2] == 1):\n",
        "      x_1.append(x_5[i])\n",
        "\n",
        "  avg_0, std_0 = stats(x_0, 0)\n",
        "  avg_1, std_1 = stats(x_1, 1)\n",
        "\n",
        "  data.avg = []\n",
        "  data.std = []\n",
        "  data.avg.append(avg_0)\n",
        "  data.avg.append(avg_1)\n",
        "  data.std.append(std_0)\n",
        "  data.std.append(std_1)\n",
        "\n",
        "  final_0 = (gaussian_probability(input[0], data.avg[0], data.std[0]))*(gaussian_probability(input[1], data.avg[0], data.std[0]))\n",
        "  final_1 = (gaussian_probability(input[0], data.avg[1], data.std[1]))*(gaussian_probability(input[1], data.avg[1], data.std[1]))  \n",
        "  \n",
        "  if (final_0 > final_1):\n",
        "    classification = 0\n",
        "  elif (final_0 < final_1):\n",
        "    classification = 1\n",
        "  return classification     \n",
        "\n",
        "\n",
        "#def class_probability():\n",
        "\n",
        "def plotting(x, y):\n",
        "  plt.xlabel(\"Feature number 1\")\n",
        "  plt.xlabel(\"Feature number 2\")\n",
        "  plt.scatter(x, y, color = \"red\")\n",
        "  plt.scatter(x, y, color = \"blue\")\n",
        "  plt.show()\n",
        "  \n",
        "\n",
        "def draw_model(y_pred, y):\n",
        "  plt.xlabel(\"Iteration number\")\n",
        "  plt.ylabel(\"Error\")\n",
        "  plt.title(\"Sampling experiment\")\n",
        "  x = np.arange(0, len(y))\n",
        "  plt.scatter(x, y, color = 'red')\n",
        "  plt.scatter(x, y_pred, color = \"blue\")\n",
        "  plt.show()\n",
        "\n",
        "def true_index(y):\n",
        "  indexes_true = []\n",
        "  for i in range(len(y)):\n",
        "    if(y[i] == 1):\n",
        "      indexes_true.append(i)\n",
        "  return indexes_true\n",
        "\n",
        "y_pred = []\n",
        "y = []\n",
        "\n",
        "epochs = 1000\n",
        "for i in range(epochs):\n",
        "  x_5 = cross_validation_split(x, 5)\n",
        "  index = random.randint(0, 19)\n",
        "  y_pred.append(predict(x_5, x[index]))\n",
        "  y.append(x_5[index][2])\n",
        "\n",
        "\n",
        "#*Print out your accuracy result. Is it good? If not, analyze the reason in short. *\n",
        "#draw_model(y_pred, y)\n",
        "#print(y)\n",
        "#print(y_pred)\n",
        "\n",
        "accuracy = accurate(y_pred, y)\n",
        "if (accuracy > 85.0):\n",
        "  print(\"The accuracy is really good\")"
      ],
      "execution_count": null,
      "outputs": [
        {
          "output_type": "stream",
          "name": "stdout",
          "text": [
            "The accuracy is:  92.4\n",
            "The accuracy is really good\n"
          ]
        }
      ]
    }
  ]
}